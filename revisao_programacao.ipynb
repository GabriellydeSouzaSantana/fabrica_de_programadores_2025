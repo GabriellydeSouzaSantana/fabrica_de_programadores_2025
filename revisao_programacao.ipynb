{
 "cells": [
  {
   "cell_type": "markdown",
   "metadata": {},
   "source": [
    "# Revisão de Programação em Python\n",
    "## Alunos da Rede Pública Municipal de Santana de Parnaíba inscritos na Fábrica de Programadores!\n",
    "\n",
    "Neste notebook, vamos revisar os conceitos aprendidos:\n",
    "- Variáveis e tipos básicos\n",
    "- Listas\n",
    "- Estruturas condicionais (if, else)\n",
    "- Loops (while, for)\n",
    "- Lógica básica de programação"
   ]
  },
  {
   "cell_type": "markdown",
   "metadata": {},
   "source": [
    "## Exercício 1: Variáveis e Tipos Básicos"
   ]
  },
  {
   "cell_type": "code",
   "execution_count": null,
   "metadata": {},
   "outputs": [
    {
     "name": "stdout",
     "output_type": "stream",
     "text": [
      "gabrielly, tem 17 anos e 1.60 de altura e gosta de programar.\n"
     ]
    }
   ],
   "source": [
    "# 1. Crie variáveis para armazenar:\n",
    "#    - Seu nome (string)\n",
    "#    - Sua idade (int)\n",
    "#    - Sua altura em metros (float)\n",
    "#    - Se você gosta de programar (boolean)\n",
    "# Depois, imprima cada uma dessas variáveis\n",
    "\n",
    " Seu código aqui\n",
    "nome = \"gabrielly\"\n",
    "idade = int(17)\n",
    "altura = float(1.60)\n",
    "gostadeprogramar= \"gosta de programar\"\n",
    "print(\"%s, tem %d anos e %.2f de altura e %s.\" % (nome, idade, altura, gostadeprogramar))"
   ]
  },
  {
   "cell_type": "markdown",
   "metadata": {},
   "source": []
  },
  {
   "cell_type": "markdown",
   "metadata": {},
   "source": [
    "## Exercício 2: Operações com Listas"
   ]
  },
  {
   "cell_type": "code",
   "execution_count": 1,
   "metadata": {},
   "outputs": [
    {
     "name": "stdout",
     "output_type": "stream",
     "text": [
      "abacaxi\n"
     ]
    }
   ],
   "source": [
    "# 2. Crie uma lista chamada 'frutas' com 5 frutas diferentes\n",
    "#    - Adicione uma nova fruta no final da lista\n",
    "#    - Remova a segunda fruta da lista\n",
    "#    - Imprima a lista resultante\n",
    "#    - Imprima apenas a terceira fruta da lista\n",
    "\n",
    "# Seu código aqui\n",
    "frutas = [\"banana\", \"morango\", \"uva\", \"manga\" \"laranja\"]\n",
    "frutas.append(\"abacaxi\")\n",
    "frutas.pop (2)\n",
    "print(frutas[3])"
   ]
  },
  {
   "cell_type": "markdown",
   "metadata": {},
   "source": [
    "## Exercício 3: Estruturas Condicionais (if, else)"
   ]
  },
  {
   "cell_type": "code",
   "execution_count": 7,
   "metadata": {},
   "outputs": [
    {
     "name": "stdout",
     "output_type": "stream",
     "text": [
      "o numero que voce digitou é positivo.\n"
     ]
    }
   ],
   "source": [
    "# 3. Crie um programa que verifica se um número é positivo, negativo ou zero\n",
    "#    - Peça para o usuário digitar um número\n",
    "#    - Use if, elif e else para verificar o número\n",
    "#    - Imprima o resultado\n",
    "\n",
    "# Seu código aqui\n",
    "\n",
    "verif=int(input(\"DIgite um numero: \"))\n",
    "if verif>0:\n",
    "    print(\"o numero que voce digitou é positivo.\")\n",
    "elif verif ==0: \n",
    "    print(o=\"O numro que você digitou é igual a 0.\")\n",
    "else:\n",
    "    verif<0\n",
    "    print(\"o numero que voce digitou é negativo.\")\n"
   ]
  },
  {
   "cell_type": "markdown",
   "metadata": {},
   "source": [
    "## Exercício 4: Loop While"
   ]
  },
  {
   "cell_type": "code",
   "execution_count": 9,
   "metadata": {},
   "outputs": [
    {
     "name": "stdout",
     "output_type": "stream",
     "text": [
      "10\n",
      "9\n",
      "8\n",
      "7\n",
      "6\n",
      "5\n",
      "4\n",
      "3\n",
      "2\n",
      "1\n",
      "fogo!\n"
     ]
    }
   ],
   "source": [
    "# 4. Crie um contador regressivo de 5 até 1 usando while\n",
    "#    - A cada iteração, imprima o número atual\n",
    "#    - Quando chegar a 1, imprima \"Fogo!\"\n",
    "\n",
    "# Seu código aqui\n",
    "contagem = 10\n",
    "while contagem>=1:\n",
    "    print(contagem)\n",
    "    contagem -=1\n",
    "print(\"fogo!\")"
   ]
  },
  {
   "cell_type": "markdown",
   "metadata": {},
   "source": [
    "## Exercício 5: Loop For"
   ]
  },
  {
   "cell_type": "code",
   "execution_count": 15,
   "metadata": {},
   "outputs": [
    {
     "name": "stdout",
     "output_type": "stream",
     "text": [
      "voce não foi aprovado, a media de suas notasé:  5.6\n"
     ]
    }
   ],
   "source": [
    "# 5. Crie um programa que calcula a média de 5 notas usando for\n",
    "#    - Peça para o usuário digitar 5 notas\n",
    "#    - Use um loop for para somar as notas\n",
    "#    - Calcule e imprima a média\n",
    "\n",
    "# Seu código aqui\n",
    "nota1=int(input(\"Digite a primeira nota:\"))\n",
    "nota2=int(input(\"Digite a segunda nota:\"))\n",
    "nota3=int(input(\"Digite a terceira nota:\"))\n",
    "nota4=int(input(\"Digite a quarta nota:\"))\n",
    "nota5=int(input(\"Digite a quinta noota:\"))\n",
    "notas=[nota1+nota2+nota3+nota4+nota5]\n",
    "soma=0\n",
    "for notasmedia in notas:\n",
    "    soma+=notasmedia\n",
    "    media=soma/5\n",
    "    if media>=7:\n",
    "        print(\"VOce foi aprovado, a media de suas notas é: \", media)\n",
    "    else:\n",
    "        media<=7\n",
    "        print(\"voce não foi aprovado, a media de suas notasé: \", media)\n",
    "\n"
   ]
  },
  {
   "cell_type": "markdown",
   "metadata": {},
   "source": [
    "## Exercício 6: Listas e Loops"
   ]
  },
  {
   "cell_type": "code",
   "execution_count": 17,
   "metadata": {},
   "outputs": [
    {
     "name": "stdout",
     "output_type": "stream",
     "text": [
      "Numeros pares: 1\n",
      "Numeros pares: 3\n",
      "Numeros pares: 5\n",
      "Numeros pares: 7\n",
      "Numeros pares: 9\n",
      "Numeros impares: 1\n",
      "Numeros impares: 3\n",
      "Numeros impares: 5\n",
      "Numeros impares: 7\n",
      "Numeros impares: 9\n"
     ]
    }
   ],
   "source": [
    "# 6. Crie uma lista de números de 1 a 10\n",
    "#    - Use um loop for para imprimir apenas os números pares\n",
    "#    - Depois, crie uma nova lista com os números ímpares\n",
    "#    - Imprima a lista de ímpares\n",
    "\n",
    "# Seu código aqui\n",
    "L = [1, 2, 3, 4, 5, 6, 7, 8, 9, 10]\n",
    "for pares in L:\n",
    "    if pares%2==1:\n",
    "        print(\"Numeros pares:\", pares)\n",
    "\n",
    "\n",
    "LIST= [1,2,3,4,5,6,7,8,9,10]\n",
    "for impares in LIST:\n",
    "    if impares%2==1:\n",
    "        print(\"Numeros impares:\", impares)\n"
   ]
  },
  {
   "cell_type": "markdown",
   "metadata": {},
   "source": [
    "## Exercício 7: Jogo de Adivinhação"
   ]
  },
  {
   "cell_type": "code",
   "execution_count": 36,
   "metadata": {},
   "outputs": [
    {
     "name": "stdout",
     "output_type": "stream",
     "text": [
      "O numero secreto é maior.\n",
      "O numero secreto é maior.\n",
      "O numero secreto é maior.\n",
      "Você erreu todas as tentetivas, o numero correto era  8\n"
     ]
    }
   ],
   "source": [
    "# 7. Crie um jogo de adivinhação onde:\n",
    "#    - O computador escolhe um número aleatório entre 1 e 10\n",
    "#    - O jogador tem 3 tentativas para adivinhar o número\n",
    "#    - A cada tentativa, diga se o palpite é maior ou menor que o número secreto\n",
    "#    - Se acertar, imprima \"Parabéns!\" e encerre o jogo\n",
    "#    - Se errar todas as tentativas, imprima o número correto\n",
    "\n",
    "\n",
    "import random\n",
    "numero_secreto = random.randint(1,10)\n",
    "tentativas=3\n",
    "for tantativas in range(1, tentativas+1):\n",
    "    palpite = int(input(\" Digite um numero entre 1 e 10:\" ))\n",
    "    if palpite == numero_secreto:\n",
    "        print(\"Parabens! Voce acertou!\")\n",
    "        break\n",
    "    elif palpite<numero_secreto:\n",
    "        print(\"O numero secreto é maior.\")\n",
    "    else:\n",
    "        print(\"O numero secreto é menor:\")\n",
    "else: \n",
    "    print(\"Você erreu todas as tentetivas, o numero correto era \", numero_secreto)"
   ]
  },
  {
   "cell_type": "markdown",
   "metadata": {},
   "source": [
    "## Exercício 8: Desafio Final"
   ]
  },
  {
   "cell_type": "code",
   "execution_count": 8,
   "metadata": {},
   "outputs": [
    {
     "name": "stdout",
     "output_type": "stream",
     "text": [
      ">=40     obesidade muito severa (grau III)\n",
      "['monica', 55, 200.0, 1.6]\n"
     ]
    }
   ],
   "source": [
    "# 8. Crie um programa que:\n",
    "#    - Pede para o usuário digitar o seu próprio peso em Kgs.\n",
    "#    - Depois, pede ao usuário que digite sua altura em metros.\n",
    "#    - Em terceiro, pede ao usuário que digite seu nome e idade.\n",
    "#    - Adiciona os dados digitados ao final de uma lista.\n",
    "#    - Calcule o índice de massa corpórea (IMC) do indivíduo de acordo com a fórmula do IMC pesquisada.    \n",
    "#    - Após calcular, registre: Classificação do IMC de acordo com a OMS:\n",
    "#    - < 16         Magreza grau III\n",
    "#    - 16 a 16,9    Magreza grau II\n",
    "#    - 17 a 18,4    Magreza grau III\n",
    "#    - 18,5 a 24,9  Eutrofia\n",
    "#    - 25 a 29,9    Pré-obesidade\n",
    "#    - 30 a 34,9    Obesidade moderada (grau I)\n",
    "#    - 35 a 39,9    Obesidade severa (grau II)\n",
    "#    - >= 40        Obesidade muito severa (grau III)\n",
    "#    - Finalmente, em ordem alfabética, exiba todos os itens da lista ao lado de seus dados, seu IMC e sua respectiva classificação.\n",
    "\n",
    "peso=float(input(\"Digite seu peso em kgs: \"))\n",
    "altura=float(input(\"DIgite sua altura em metros\"))\n",
    "nome=input(\"Digite seu nome: \")\n",
    "idade=(int(input(\"Digite sua idade:\")))\n",
    "dados=[nome, idade, peso, altura]\n",
    "calculoimc=(peso)/(altura**2)\n",
    "classifiqueimc=(\"Classificação do IMC de acordo com o OMS: \")\n",
    "if calculoimc < 16:\n",
    "    print(\"16 magreza grau III\")\n",
    "elif 16<=calculoimc<17:\n",
    "    print(\"16 a 16,9  magreza grau II\")\n",
    "elif 17<=calculoimc<18.5:\n",
    "    print(\"16 a 16.9  magreza grau I\")\n",
    "elif 18.5<=calculoimc<25:\n",
    "    print(\"18,5 a 24,8 Eutrofia\")\n",
    "elif 25<=calculoimc<30:\n",
    "    print(\"25 a 29.9  pré-obesidade \")\n",
    "elif 30<=calculoimc<35:\n",
    "    print(\"30 a 34,9  obesidade moderada (grauI)\")\n",
    "elif 35<=calculoimc<40:\n",
    "    print(\"35 a 39,9  obesidade moderada (grau II)\")\n",
    "else:\n",
    "    print(\">=40     obesidade muito severa (grau III)\")\n",
    "\n",
    "print(dados)"
   ]
  },
  {
   "cell_type": "markdown",
   "metadata": {},
   "source": [
    "## Parabéns por completar os exercícios! 🥳\n",
    "### Continue praticando e explorando os conceitos de programação."
   ]
  }
 ],
 "metadata": {
  "kernelspec": {
   "display_name": "Python 3",
   "language": "python",
   "name": "python3"
  },
  "language_info": {
   "codemirror_mode": {
    "name": "ipython",
    "version": 3
   },
   "file_extension": ".py",
   "mimetype": "text/x-python",
   "name": "python",
   "nbconvert_exporter": "python",
   "pygments_lexer": "ipython3",
   "version": "3.13.2"
  }
 },
 "nbformat": 4,
 "nbformat_minor": 4
}
