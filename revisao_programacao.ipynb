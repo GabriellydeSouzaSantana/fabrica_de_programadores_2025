{
 "cells": [
  {
   "cell_type": "markdown",
   "metadata": {},
   "source": [
    "# Revisão de Programação em Python\n",
    "## Alunos da Rede Pública Municipal de Santana de Parnaíba inscritos na Fábrica de Programadores!\n",
    "\n",
    "Neste notebook, vamos revisar os conceitos aprendidos:\n",
    "- Variáveis e tipos básicos\n",
    "- Listas\n",
    "- Estruturas condicionais (if, else)\n",
    "- Loops (while, for)\n",
    "- Lógica básica de programação"
   ]
  },
  {
   "cell_type": "markdown",
   "metadata": {},
   "source": [
    "## Exercício 1: Variáveis e Tipos Básicos"
   ]
  },
  {
   "cell_type": "code",
   "execution_count": null,
   "metadata": {},
   "outputs": [
    {
     "name": "stdout",
     "output_type": "stream",
     "text": [
      "gabrielly, tem 17 anos e 1.60 de altura e gosta de programar.\n"
     ]
    }
   ],
   "source": [
    "# 1. Crie variáveis para armazenar:\n",
    "#    - Seu nome (string)\n",
    "#    - Sua idade (int)\n",
    "#    - Sua altura em metros (float)\n",
    "#    - Se você gosta de programar (boolean)\n",
    "# Depois, imprima cada uma dessas variáveis\n",
    "\n",
    "# Seu código aqui\n",
    "#nome = \"gabrielly\"\n",
    "#idade = int(17)\n",
    "#altura = float(1.60)\n",
    "#gostadeprogramar= \"gosta de programar\"\n",
    "#print(\"%s, tem %d anos e %.2f de altura e %s.\" % (nome, idade, altura, gostadeprogramar))"
   ]
  },
  {
   "cell_type": "markdown",
   "metadata": {},
   "source": []
  },
  {
   "cell_type": "markdown",
   "metadata": {},
   "source": [
    "## Exercício 2: Operações com Listas"
   ]
  },
  {
   "cell_type": "code",
   "execution_count": 1,
   "metadata": {},
   "outputs": [
    {
     "name": "stdout",
     "output_type": "stream",
     "text": [
      "abacaxi\n"
     ]
    }
   ],
   "source": [
    "# 2. Crie uma lista chamada 'frutas' com 5 frutas diferentes\n",
    "#    - Adicione uma nova fruta no final da lista\n",
    "#    - Remova a segunda fruta da lista\n",
    "#    - Imprima a lista resultante\n",
    "#    - Imprima apenas a terceira fruta da lista\n",
    "\n",
    "# Seu código aqui\n",
    "frutas = [\"banana\", \"morango\", \"uva\", \"manga\" \"laranja\"]\n",
    "frutas.append(\"abacaxi\")\n",
    "frutas.pop (2)\n",
    "print(frutas[3])"
   ]
  },
  {
   "cell_type": "markdown",
   "metadata": {},
   "source": [
    "## Exercício 3: Estruturas Condicionais (if, else)"
   ]
  },
  {
   "cell_type": "code",
   "execution_count": 7,
   "metadata": {},
   "outputs": [
    {
     "name": "stdout",
     "output_type": "stream",
     "text": [
      "o numero que voce digitou é positivo.\n"
     ]
    }
   ],
   "source": [
    "# 3. Crie um programa que verifica se um número é positivo, negativo ou zero\n",
    "#    - Peça para o usuário digitar um número\n",
    "#    - Use if, elif e else para verificar o número\n",
    "#    - Imprima o resultado\n",
    "\n",
    "# Seu código aqui\n",
    "\n",
    "verif=int(input(\"DIgite um numero: \"))\n",
    "if verif>0:\n",
    "    print(\"o numero que voce digitou é positivo.\")\n",
    "elif verif ==0: \n",
    "    print(o=\"O numro que você digitou é igual a 0.\")\n",
    "else:\n",
    "    verif<0\n",
    "    print(\"o numero que voce digitou é negativo.\")\n"
   ]
  },
  {
   "cell_type": "markdown",
   "metadata": {},
   "source": [
    "## Exercício 4: Loop While"
   ]
  },
  {
   "cell_type": "code",
   "execution_count": 9,
   "metadata": {},
   "outputs": [
    {
     "name": "stdout",
     "output_type": "stream",
     "text": [
      "10\n",
      "9\n",
      "8\n",
      "7\n",
      "6\n",
      "5\n",
      "4\n",
      "3\n",
      "2\n",
      "1\n",
      "fogo!\n"
     ]
    }
   ],
   "source": [
    "# 4. Crie um contador regressivo de 5 até 1 usando while\n",
    "#    - A cada iteração, imprima o número atual\n",
    "#    - Quando chegar a 1, imprima \"Fogo!\"\n",
    "\n",
    "# Seu código aqui\n",
    "contagem = 10\n",
    "while contagem>=1:\n",
    "    print(contagem)\n",
    "    contagem -=1\n",
    "print(\"fogo!\")"
   ]
  },
  {
   "cell_type": "markdown",
   "metadata": {},
   "source": [
    "## Exercício 5: Loop For"
   ]
  },
  {
   "cell_type": "code",
   "execution_count": 15,
   "metadata": {},
   "outputs": [
    {
     "name": "stdout",
     "output_type": "stream",
     "text": [
      "voce não foi aprovado, a media de suas notasé:  5.6\n"
     ]
    }
   ],
   "source": [
    "# 5. Crie um programa que calcula a média de 5 notas usando for\n",
    "#    - Peça para o usuário digitar 5 notas\n",
    "#    - Use um loop for para somar as notas\n",
    "#    - Calcule e imprima a média\n",
    "\n",
    "# Seu código aqui\n",
    "nota1=int(input(\"Digite a primeira nota:\"))\n",
    "nota2=int(input(\"Digite a segunda nota:\"))\n",
    "nota3=int(input(\"Digite a terceira nota:\"))\n",
    "nota4=int(input(\"Digite a quarta nota:\"))\n",
    "nota5=int(input(\"Digite a quinta noota:\"))\n",
    "notas=[nota1+nota2+nota3+nota4+nota5]\n",
    "soma=0\n",
    "for notasmedia in notas:\n",
    "    soma+=notasmedia\n",
    "    media=soma/5\n",
    "    if media>=7:\n",
    "        print(\"VOce foi aprovado, a media de suas notas é: \", media)\n",
    "    else:\n",
    "        media<=7\n",
    "        print(\"voce não foi aprovado, a media de suas notasé: \", media)\n",
    "\n"
   ]
  },
  {
   "cell_type": "markdown",
   "metadata": {},
   "source": [
    "## Exercício 6: Listas e Loops"
   ]
  },
  {
   "cell_type": "code",
   "execution_count": null,
   "metadata": {},
   "outputs": [
    {
     "ename": "NameError",
     "evalue": "name 'impares' is not defined",
     "output_type": "error",
     "traceback": [
      "\u001b[31m---------------------------------------------------------------------------\u001b[39m",
      "\u001b[31mNameError\u001b[39m                                 Traceback (most recent call last)",
      "\u001b[36mCell\u001b[39m\u001b[36m \u001b[39m\u001b[32mIn[16]\u001b[39m\u001b[32m, line 9\u001b[39m\n\u001b[32m      7\u001b[39m L = [\u001b[32m1\u001b[39m, \u001b[32m2\u001b[39m, \u001b[32m3\u001b[39m, \u001b[32m4\u001b[39m, \u001b[32m5\u001b[39m, \u001b[32m6\u001b[39m, \u001b[32m7\u001b[39m, \u001b[32m8\u001b[39m, \u001b[32m9\u001b[39m, \u001b[32m10\u001b[39m]\n\u001b[32m      8\u001b[39m \u001b[38;5;28;01mfor\u001b[39;00m pares \u001b[38;5;129;01min\u001b[39;00m L:\n\u001b[32m----> \u001b[39m\u001b[32m9\u001b[39m     \u001b[38;5;28;01mif\u001b[39;00m \u001b[43mimpares\u001b[49m%\u001b[32m2\u001b[39m==\u001b[32m1\u001b[39m:\n\u001b[32m     10\u001b[39m         \u001b[38;5;28mprint\u001b[39m(\u001b[33m\"\u001b[39m\u001b[33mNumeros impares:\u001b[39m\u001b[33m\"\u001b[39m, impares)\n",
      "\u001b[31mNameError\u001b[39m: name 'impares' is not defined"
     ]
    }
   ],
   "source": [
    "# 6. Crie uma lista de números de 1 a 10\n",
    "#    - Use um loop for para imprimir apenas os números pares\n",
    "#    - Depois, crie uma nova lista com os números ímpares\n",
    "#    - Imprima a lista de ímpares\n",
    "\n",
    "# Seu código aqui\n",
    "L = [1, 2, 3, 4, 5, 6, 7, 8, 9, 10]\n",
    "for pares in L:\n",
    "    if impares%2==1:\n",
    "        print(\"Numeros impares:\", imp\n",
    "    "
   ]
  },
  {
   "cell_type": "markdown",
   "metadata": {},
   "source": [
    "## Exercício 7: Jogo de Adivinhação"
   ]
  },
  {
   "cell_type": "code",
   "execution_count": null,
   "metadata": {},
   "outputs": [],
   "source": [
    "# 7. Crie um jogo de adivinhação onde:\n",
    "#    - O computador escolhe um número aleatório entre 1 e 10\n",
    "#    - O jogador tem 3 tentativas para adivinhar o número\n",
    "#    - A cada tentativa, diga se o palpite é maior ou menor que o número secreto\n",
    "#    - Se acertar, imprima \"Parabéns!\" e encerre o jogo\n",
    "#    - Se errar todas as tentativas, imprima o número correto\n",
    "\n",
    "# Seu código aqui"
   ]
  },
  {
   "cell_type": "markdown",
   "metadata": {},
   "source": [
    "## Exercício 8: Desafio Final"
   ]
  },
  {
   "cell_type": "code",
   "execution_count": null,
   "metadata": {},
   "outputs": [],
   "source": [
    "# 8. Crie um programa que:\n",
    "#    - Pede para o usuário digitar o seu próprio peso em Kgs.\n",
    "#    - Depois, pede ao usuário que digite sua altura em metros.\n",
    "#    - Em terceiro, pede ao usuário que digite seu nome e idade.\n",
    "#    - Adiciona os dados digitados ao final de uma lista.\n",
    "#    - Calcule o índice de massa corpórea (IMC) do indivíduo de acordo com a fórmula do IMC pesquisada.    \n",
    "#    - Após calcular, registre: Classificação do IMC de acordo com a OMS:\n",
    "#    - < 16         Magreza grau III\n",
    "#    - 16 a 16,9    Magreza grau II\n",
    "#    - 17 a 18,4    Magreza grau III\n",
    "#    - 18,5 a 24,9  Eutrofia\n",
    "#    - 25 a 29,9    Pré-obesidade\n",
    "#    - 30 a 34,9    Obesidade moderada (grau I)\n",
    "#    - 35 a 39,9    Obesidade severa (grau II)\n",
    "#    - >= 40        Obesidade muito severa (grau III)\n",
    "#    - Finalmente, em ordem alfabética, exiba todos os itens da lista ao lado de seus dados, seu IMC e sua respectiva classificação.\n",
    "\n",
    "# Seu código aqui"
   ]
  },
  {
   "cell_type": "markdown",
   "metadata": {},
   "source": [
    "## Parabéns por completar os exercícios! 🥳\n",
    "### Continue praticando e explorando os conceitos de programação."
   ]
  }
 ],
 "metadata": {
  "kernelspec": {
   "display_name": "Python 3",
   "language": "python",
   "name": "python3"
  },
  "language_info": {
   "codemirror_mode": {
    "name": "ipython",
    "version": 3
   },
   "file_extension": ".py",
   "mimetype": "text/x-python",
   "name": "python",
   "nbconvert_exporter": "python",
   "pygments_lexer": "ipython3",
   "version": "3.13.2"
  }
 },
 "nbformat": 4,
 "nbformat_minor": 4
}
